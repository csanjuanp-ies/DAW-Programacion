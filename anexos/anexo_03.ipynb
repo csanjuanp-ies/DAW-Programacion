{
 "cells": [
  {
   "cell_type": "markdown",
   "source": [
    "# Anexo 3\n",
    "## Tips"
   ],
   "metadata": {
    "collapsed": false,
    "pycharm": {
     "name": "#%% md\n"
    }
   }
  },
  {
   "cell_type": "markdown",
   "source": [
    "### Trasponer una matriz cuadrada"
   ],
   "metadata": {
    "collapsed": false,
    "pycharm": {
     "name": "#%% md\n"
    }
   }
  },
  {
   "cell_type": "code",
   "execution_count": 1,
   "outputs": [
    {
     "name": "stdout",
     "output_type": "stream",
     "text": [
      "[[1, 1, 1], [2, 2, 2], [3, 3, 3]]\n",
      "[(1, 2, 3), (1, 2, 3), (1, 2, 3)]\n"
     ]
    }
   ],
   "source": [
    "lst = [[1, 1, 1], [2, 2, 2], [3, 3, 3]]\n",
    "print(lst)\n",
    "lst = list(zip(*lst))\n",
    "print(lst)"
   ],
   "metadata": {
    "collapsed": false,
    "pycharm": {
     "name": "#%%\n"
    }
   }
  }
 ],
 "metadata": {
  "kernelspec": {
   "display_name": "Python 3",
   "language": "python",
   "name": "python3"
  },
  "language_info": {
   "codemirror_mode": {
    "name": "ipython",
    "version": 2
   },
   "file_extension": ".py",
   "mimetype": "text/x-python",
   "name": "python",
   "nbconvert_exporter": "python",
   "pygments_lexer": "ipython2",
   "version": "2.7.6"
  }
 },
 "nbformat": 4,
 "nbformat_minor": 0
}