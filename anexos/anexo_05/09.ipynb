{
 "cells": [
  {
   "cell_type": "markdown",
   "source": [
    "# Ejercicios\n",
    "[Enlace en la web: Ejercicios](https://www.geeksforgeeks.org/practice-for-cracking-any-coding-interview/)"
   ],
   "metadata": {
    "collapsed": false,
    "pycharm": {
     "name": "#%% md\n"
    }
   }
  },
  {
   "cell_type": "markdown",
   "source": [
    "## Listas Enlazadas"
   ],
   "metadata": {
    "collapsed": false,
    "pycharm": {
     "name": "#%% md\n"
    }
   }
  },
  {
   "cell_type": "markdown",
   "source": [
    "**1.-** Crea una estructura de datos como una lista enlazada sin cabecera\n",
    "[Teoría sobre listas enlazadas](https://www.geeksforgeeks.org/data-structures/linked-list/)"
   ],
   "metadata": {
    "collapsed": false,
    "pycharm": {
     "name": "#%% md\n"
    }
   }
  },
  {
   "cell_type": "code",
   "execution_count": 12,
   "outputs": [],
   "source": [
    "class Nodo:\n",
    "    def __init__(self, value, sig=None):\n",
    "        self.value = value\n",
    "        self.sig = sig\n",
    "\n",
    "    def __str__(self):\n",
    "        return f\"Valor:{self.value}\"\n",
    "\n",
    "\n",
    "class ListaEnlazada:\n",
    "    def __init__(self):\n",
    "        self.head = None\n",
    "\n",
    "    def __str__(self):\n",
    "        str_ret = \"\"\n",
    "        if self.head:\n",
    "            puntero_nodo = self.head\n",
    "            while puntero_nodo:\n",
    "                str_ret += str(puntero_nodo) + \" \"\n",
    "                puntero_nodo = puntero_nodo.sig\n",
    "        else:\n",
    "            str_ret = \"Lista vacía\"\n",
    "        return str_ret\n",
    "\n",
    "    def add_nodo(self, value):\n",
    "        if not self.head:\n",
    "            self.head = Nodo(value)\n",
    "        else:\n",
    "            puntero_nodo = self.head\n",
    "            while puntero_nodo.sig:\n",
    "                puntero_nodo = puntero_nodo.sig\n",
    "            puntero_nodo.sig = Nodo(value)\n",
    "\n",
    "    def get_ultimo_nodo(self):\n",
    "        if not self.head:\n",
    "            return self.head\n",
    "        else:\n",
    "            puntero_nodo = self.head\n",
    "            while puntero_nodo.sig:\n",
    "                puntero_nodo = puntero_nodo.sig\n",
    "            return puntero_nodo\n",
    "\n",
    "    def get_nodo_at(self, index):\n",
    "        if not self.head:\n",
    "            return self.head\n",
    "        else:\n",
    "            puntero_nodo = self.head\n",
    "            contador = 0\n",
    "            while puntero_nodo and contador < index:\n",
    "                puntero_nodo = puntero_nodo.sig\n",
    "                contador += 1\n",
    "            return puntero_nodo\n",
    "\n",
    "    def es_vacia(self):\n",
    "        return self.head is None\n",
    "\n",
    "    def delete_nodo(self, key=None):\n",
    "        if key is not None and self.head is not None:\n",
    "            curr = self.head\n",
    "            prev = None\n",
    "            while curr and curr.value != key:\n",
    "                prev = curr\n",
    "                curr = curr.sig\n",
    "            if prev is None:\n",
    "                self.head = curr.sig\n",
    "            elif curr:\n",
    "                prev.sig = curr.sig\n",
    "                curr.sig = None\n"
   ],
   "metadata": {
    "collapsed": false,
    "pycharm": {
     "name": "#%%\n"
    }
   }
  },
  {
   "cell_type": "code",
   "execution_count": 13,
   "outputs": [
    {
     "name": "stdout",
     "output_type": "stream",
     "text": [
      "Con la lista vacía (Conseguir un nodo): None\n",
      "Con la lista vacía (está vacía?): True\n",
      "Con la lista vacía (borrar nodo?): None\n",
      "Lista: Valor:0 Valor:1 Valor:2 Valor:3 Valor:4 \n",
      "Con elementos en la lista (está vacía?): False\n",
      "Conseguir último nodo y modificarlo: Valor:5\n",
      "Lista: Valor:0 Valor:1 Valor:2 Valor:3 Valor:5 \n",
      "Conseguir un nodo en la lista por índice Valor:2\n",
      "Conseguir un nodo en la lista por índice mayor que el número de elementos None\n",
      "Una vez borrada la lista: Lista vacía\n"
     ]
    }
   ],
   "source": [
    "lista = ListaEnlazada()\n",
    "print(\"Con la lista vacía (Conseguir un nodo):\", lista.get_nodo_at(1))\n",
    "print(\"Con la lista vacía (está vacía?):\", lista.es_vacia())\n",
    "print(\"Con la lista vacía (borrar nodo?):\", lista.delete_nodo(3))\n",
    "for n in range(5):\n",
    "    lista.add_nodo(n)\n",
    "print(\"Lista:\", lista)\n",
    "print(\"Con elementos en la lista (está vacía?):\", lista.es_vacia())\n",
    "ultimo = lista.get_ultimo_nodo()\n",
    "ultimo.value = 5\n",
    "print(\"Conseguir último nodo y modificarlo:\", ultimo)\n",
    "print(\"Lista:\", lista)\n",
    "print(\"Conseguir un nodo en la lista por índice\", lista.get_nodo_at(2))\n",
    "print(\"Conseguir un nodo en la lista por índice mayor que el número de elementos\", lista.get_nodo_at(6))\n",
    "for n in range(6):\n",
    "    lista.delete_nodo(n)  # borramos de más para ver que funciona\n",
    "print(\"Una vez borrada la lista:\", lista)"
   ],
   "metadata": {
    "collapsed": false,
    "pycharm": {
     "name": "#%%\n"
    }
   }
  },
  {
   "cell_type": "markdown",
   "source": [
    "**2.-** Crea una función que borre N nodos saltándose K nodos"
   ],
   "metadata": {
    "collapsed": false
   }
  },
  {
   "cell_type": "code",
   "execution_count": 14,
   "outputs": [],
   "source": [
    "def delete_despues(self, numero_nodos, nodos_a_borrar):\n",
    "    \"\"\"\n",
    "    :param self: Lista\n",
    "    :param numero_nodos: Número de nodos a saltar\n",
    "    :param nodos_a_borrar: Número de nodos a borrar\n",
    "    :return: None\n",
    "    \"\"\"\n",
    "    prev = curr = self.head\n",
    "    nodo_actual = 0\n",
    "    while curr and nodo_actual < numero_nodos:\n",
    "        prev = curr\n",
    "        curr = curr.sig\n",
    "        nodo_actual += 1\n",
    "    while curr is not None and nodo_actual < numero_nodos + nodos_a_borrar:\n",
    "        if numero_nodos == 0:  # borramos en cabeza\n",
    "            lista.head = curr.sig\n",
    "            del curr\n",
    "            curr = lista.head\n",
    "        else:\n",
    "            prev.sig = curr.sig\n",
    "            del curr\n",
    "            curr = prev.sig\n",
    "        nodo_actual += 1"
   ],
   "metadata": {
    "collapsed": false,
    "pycharm": {
     "name": "#%%\n"
    }
   }
  },
  {
   "cell_type": "code",
   "execution_count": 15,
   "outputs": [
    {
     "name": "stdout",
     "output_type": "stream",
     "text": [
      "Valor:0 Valor:1 Valor:2 Valor:3 Valor:4 Valor:5 Valor:6 Valor:7 Valor:8 Valor:9 \n",
      "Valor:2 Valor:3 Valor:4 Valor:5 Valor:6 Valor:7 Valor:8 Valor:9 \n",
      "Valor:2 Valor:3 Valor:5 Valor:6 Valor:7 Valor:8 Valor:9 \n",
      "Valor:2 Valor:3 Valor:5 Valor:6 Valor:7 Valor:8 \n"
     ]
    }
   ],
   "source": [
    "for n in range(10):\n",
    "    lista.add_nodo(n)\n",
    "print(lista)\n",
    "delete_despues(lista,0, 2)\n",
    "print(lista)\n",
    "delete_despues(lista, 2, 1)\n",
    "print(lista)\n",
    "delete_despues(lista, 6, 3)\n",
    "print(lista)"
   ],
   "metadata": {
    "collapsed": false,
    "pycharm": {
     "name": "#%%\n"
    }
   }
  },
  {
   "cell_type": "markdown",
   "source": [
    "**3.-** Crea una función que borre El nodo número N"
   ],
   "metadata": {
    "collapsed": false
   }
  },
  {
   "cell_type": "code",
   "execution_count": 16,
   "outputs": [],
   "source": [
    "def delete_index(self, numero_nodo):\n",
    "    \"\"\"\n",
    "    :param numero_nodo: Número de nodos a borrar\n",
    "    :return: None\n",
    "    \"\"\"\n",
    "    prev = curr = self.head\n",
    "    nodo_actual = 0\n",
    "    while curr and nodo_actual < numero_nodo:\n",
    "        prev = curr\n",
    "        curr = curr.sig\n",
    "        nodo_actual += 1\n",
    "    if curr is not None:\n",
    "        if numero_nodo == 0:  # borramos en cabeza\n",
    "            lista.head = curr.sig\n",
    "            del curr\n",
    "            curr = lista.head\n",
    "        else:\n",
    "            prev.sig = curr.sig\n",
    "            del curr\n",
    "            curr = prev.sig\n",
    "        nodo_actual += 1"
   ],
   "metadata": {
    "collapsed": false,
    "pycharm": {
     "name": "#%%\n"
    }
   }
  },
  {
   "cell_type": "code",
   "execution_count": 17,
   "outputs": [
    {
     "name": "stdout",
     "output_type": "stream",
     "text": [
      "Valor:3 Valor:5 Valor:6 Valor:7 Valor:8 \n",
      "Valor:3 Valor:5 Valor:6 Valor:7 \n",
      "Valor:3 Valor:5 Valor:6 Valor:7 \n"
     ]
    }
   ],
   "source": [
    "delete_index(lista, 0)\n",
    "print((lista))\n",
    "delete_index(lista, 4)\n",
    "print((lista))\n",
    "delete_index(lista, 6)\n",
    "print((lista))"
   ],
   "metadata": {
    "collapsed": false,
    "pycharm": {
     "name": "#%%\n"
    }
   }
  },
  {
   "cell_type": "markdown",
   "source": [
    "**4.-** Dada una lista enlazada individualmente, la tarea es reorganizarla de manera que todos los nodos de posiciones impares estén juntos y todos los nodos de posiciones pares estén juntos."
   ],
   "metadata": {
    "collapsed": false
   }
  },
  {
   "cell_type": "code",
   "execution_count": 18,
   "outputs": [],
   "source": [
    "def organizar_par_impar(self):\n",
    "    if self.head is not None and self.head.sig is not None:\n",
    "        head_impar = self.head\n",
    "        head_par = self.head.sig\n",
    "        impar = head_impar\n",
    "        par = head_par\n",
    "        curr = head_par.sig\n",
    "        contador = 1\n",
    "        while curr is not None:\n",
    "            if contador % 2 == 0:\n",
    "                par.sig = curr\n",
    "                par = par.sig\n",
    "            else:\n",
    "                impar.sig = curr\n",
    "                impar = impar.sig\n",
    "            contador += 1\n",
    "            curr = curr.sig\n",
    "        impar.sig = head_par\n",
    "        par.sig = None"
   ],
   "metadata": {
    "collapsed": false,
    "pycharm": {
     "name": "#%%\n"
    }
   }
  },
  {
   "cell_type": "code",
   "execution_count": 19,
   "outputs": [
    {
     "name": "stdout",
     "output_type": "stream",
     "text": [
      "Valor:0 Valor:2 Valor:4 Valor:6 Valor:8 Valor:1 Valor:3 Valor:5 Valor:7 \n"
     ]
    }
   ],
   "source": [
    "lista = ListaEnlazada()\n",
    "for n in range(9):\n",
    "    lista.add_nodo(n)\n",
    "organizar_par_impar(lista)\n",
    "print(lista)"
   ],
   "metadata": {
    "collapsed": false,
    "pycharm": {
     "name": "#%%\n"
    }
   }
  },
  {
   "cell_type": "markdown",
   "source": [
    "**5.-** Dada una lista de enlaces de tamaño N, modifique la lista de modo que todos los números pares aparezcan antes que todos los números impares en la lista modificada. El orden de aparición de los números dentro de cada segregación debe ser el mismo que en la lista original."
   ],
   "metadata": {
    "collapsed": false
   }
  },
  {
   "cell_type": "code",
   "execution_count": 20,
   "outputs": [],
   "source": [
    "def organizar_par_impar_2(self):\n",
    "    if self.head is not None and self.head.sig is not None:\n",
    "        head_impar = self.head\n",
    "        head_par = Nodo(-1)\n",
    "        impar = head_impar\n",
    "        par = head_par\n",
    "        curr = head_impar.sig\n",
    "        while curr is not None:\n",
    "            if curr.value % 2 == 0:\n",
    "                par.sig = curr\n",
    "                par = par.sig\n",
    "            else:\n",
    "                impar.sig = curr\n",
    "                impar = impar.sig\n",
    "            curr = curr.sig\n",
    "        self.head = head_par.sig\n",
    "        par.sig = head_impar\n",
    "        impar.sig = None"
   ],
   "metadata": {
    "collapsed": false,
    "pycharm": {
     "name": "#%%\n"
    }
   }
  },
  {
   "cell_type": "code",
   "execution_count": 22,
   "outputs": [
    {
     "name": "stdout",
     "output_type": "stream",
     "text": [
      "Valor:8 Valor:2 Valor:4 Valor:6 Valor:17 Valor:15 Valor:9 \n"
     ]
    }
   ],
   "source": [
    "lista = ListaEnlazada()\n",
    "for n in [17, 15, 8, 9, 2, 4, 6]:\n",
    "    lista.add_nodo(n)\n",
    "organizar_par_impar_2(lista)\n",
    "print(lista)"
   ],
   "metadata": {
    "collapsed": false,
    "pycharm": {
     "name": "#%%\n"
    }
   }
  },
  {
   "cell_type": "markdown",
   "source": [
    "6.- Dada una lista: A0→A1→…→An-1→An, reordenar a: A0→An→A1→An-1→A2→An-2→…\n",
    "Por ejemplo: Dada 1->2->3->4->5 its reorder is 1->5->2->4->3."
   ],
   "metadata": {
    "collapsed": false
   }
  },
  {
   "cell_type": "code",
   "execution_count": 23,
   "outputs": [],
   "source": [
    "def reordenar(self):\n",
    "    curr = self.head\n",
    "    while curr.sig is not None and curr.sig.sig is not None:\n",
    "        der = curr\n",
    "        while der.sig.sig is not None:\n",
    "            der = der.sig\n",
    "\n",
    "        cambio = der.sig\n",
    "        der.sig = None\n",
    "        cambio.sig = curr.sig\n",
    "        curr.sig = cambio\n",
    "        curr = curr.sig.sig"
   ],
   "metadata": {
    "collapsed": false,
    "pycharm": {
     "name": "#%%\n"
    }
   }
  },
  {
   "cell_type": "code",
   "execution_count": 24,
   "outputs": [
    {
     "name": "stdout",
     "output_type": "stream",
     "text": [
      "Valor:0 Valor:8 Valor:1 Valor:7 Valor:2 Valor:6 Valor:3 Valor:5 Valor:4 \n"
     ]
    }
   ],
   "source": [
    "lista = ListaEnlazada()\n",
    "for n in range(9):\n",
    "    lista.add_nodo(n)\n",
    "reordenar(lista)\n",
    "print(lista)"
   ],
   "metadata": {
    "collapsed": false,
    "pycharm": {
     "name": "#%%\n"
    }
   }
  }
 ],
 "metadata": {
  "kernelspec": {
   "display_name": "Python 3",
   "language": "python",
   "name": "python3"
  },
  "language_info": {
   "codemirror_mode": {
    "name": "ipython",
    "version": 2
   },
   "file_extension": ".py",
   "mimetype": "text/x-python",
   "name": "python",
   "nbconvert_exporter": "python",
   "pygments_lexer": "ipython2",
   "version": "2.7.6"
  }
 },
 "nbformat": 4,
 "nbformat_minor": 0
}